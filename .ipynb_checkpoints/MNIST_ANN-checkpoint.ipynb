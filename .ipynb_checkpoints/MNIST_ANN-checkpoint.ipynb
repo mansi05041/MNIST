{
 "cells": [
  {
   "cell_type": "markdown",
   "id": "980ca559",
   "metadata": {},
   "source": [
    "# importing libraries"
   ]
  },
  {
   "cell_type": "code",
   "execution_count": 4,
   "id": "31c5dee9",
   "metadata": {},
   "outputs": [],
   "source": [
    "#importing the variables from preprocessing\n",
    "%store -r X_train\n",
    "%store -r X_test\n",
    "%store -r y_train\n",
    "%store -r y_test"
   ]
  },
  {
   "cell_type": "code",
   "execution_count": 6,
   "id": "963e6af0",
   "metadata": {},
   "outputs": [],
   "source": [
    "# keras packages\n",
    "from keras.models import Sequential\n",
    "from keras.layers import Convolution2D\n",
    "from keras.layers import MaxPooling2D\n",
    "from keras.layers import Flatten\n",
    "from keras.layers import Dense\n",
    "from keras.wrappers.scikit_learn import KerasClassifier\n",
    "from keras.layers import Dropout"
   ]
  },
  {
   "cell_type": "code",
   "execution_count": 28,
   "id": "e9f7187e",
   "metadata": {},
   "outputs": [
    {
     "ename": "SyntaxError",
     "evalue": "trailing comma not allowed without surrounding parentheses (1452920531.py, line 6)",
     "output_type": "error",
     "traceback": [
      "\u001b[1;36m  Input \u001b[1;32mIn [28]\u001b[1;36m\u001b[0m\n\u001b[1;33m    from sklearn.metrics import roc_curve,\u001b[0m\n\u001b[1;37m                                           ^\u001b[0m\n\u001b[1;31mSyntaxError\u001b[0m\u001b[1;31m:\u001b[0m trailing comma not allowed without surrounding parentheses\n"
     ]
    }
   ],
   "source": [
    "# model evaluation packages\n",
    "from sklearn.metrics import accuracy_score \n",
    "from sklearn.metrics import precision_score\n",
    "from sklearn.metrics import recall_score\n",
    "from sklearn.metrics import f1_score\n",
    "from sklearn.metrics import roc_curve\n",
    "from sklearn.metrics import confusion_matrix"
   ]
  },
  {
   "cell_type": "markdown",
   "id": "253221ba",
   "metadata": {},
   "source": [
    "# Building a ANN model with 1 Dense layer"
   ]
  },
  {
   "cell_type": "code",
   "execution_count": 7,
   "id": "ba04593e",
   "metadata": {},
   "outputs": [],
   "source": [
    "#intializing CNN model\n",
    "classifier = Sequential()"
   ]
  },
  {
   "cell_type": "raw",
   "id": "6327082a",
   "metadata": {},
   "source": [
    "In keras, the Sequential class represents a linear stack of layers, where each layer is connected to the next in sequence. It provides a straightforward way to build and train deep learning models by adding layers one after another."
   ]
  },
  {
   "cell_type": "code",
   "execution_count": 9,
   "id": "f07281db",
   "metadata": {},
   "outputs": [],
   "source": [
    "# add 1st hidden layer\n",
    "classifier.add(Dense(input_dim = X_train.shape[1],\n",
    "                    units = 256, kernel_initializer='uniform',\n",
    "                    activation = 'relu'))"
   ]
  },
  {
   "cell_type": "raw",
   "id": "a0cdb436",
   "metadata": {},
   "source": [
    "add()-  Used to add a layer to the sequential model\n",
    "dense - This type of layer being added, which represents a fully connected(dense)layer. Each neuron in this layer is connected to every neuron in the previous layer\n",
    "units - This parameter determins the number of neurons in the dense layer\n",
    "kernel_intializer - This parameter defines the intialization method for the weights of the dense layer. 'uniform' initializer intializes the weights with random values from a uniform distribution.\n",
    "activation - This parameter specifies the activation function to be used in the desne layer. The relu introduces non-linearity to the model by mapping negative values to zero and keeing positive values unchanged"
   ]
  },
  {
   "cell_type": "code",
   "execution_count": 10,
   "id": "c39670ed",
   "metadata": {},
   "outputs": [],
   "source": [
    "# add output laye\n",
    "classifier.add(Dense(units=10, kernel_initializer='uniform',\n",
    "                    activation='softmax'))"
   ]
  },
  {
   "cell_type": "raw",
   "id": "404fb2b5",
   "metadata": {},
   "source": [
    "The softmax function is commonly used for multi-class classification problems, as it normalizes the output the output probabilities across all classes, ensuring they sum up to 1. This allows the model to produce probability distributions over multiple claasses"
   ]
  },
  {
   "cell_type": "code",
   "execution_count": 11,
   "id": "dc91d15f",
   "metadata": {},
   "outputs": [],
   "source": [
    "# compile the neural network\n",
    "classifier.compile(optimizer='adam',\n",
    "                   loss='sparse_categorical_crossentropy',\n",
    "                   metrics=['accuracy'])"
   ]
  },
  {
   "cell_type": "raw",
   "id": "d43c7065",
   "metadata": {},
   "source": [
    "optimizer - This parameter specifies the optimizer to be used during training. The Adam optizer adapts the learning rate for each parameter based on its gradient, providing efficient optimization and convergence\n",
    "loss - This parameter defines the loss function to be minimized during training. The sparse_categorical_crossentropy loss function is used for multi-class classification problems when the target variable is represented as integers. It calculates the cross-entropy loss between the predicted class probabilities and the true class label.\n",
    "metrics - this parameter specifies the evaluation metrics to be used during training and evaluation. Accuracy is used which measures the percentage of correctly classified instances."
   ]
  },
  {
   "cell_type": "code",
   "execution_count": 12,
   "id": "5c743085",
   "metadata": {},
   "outputs": [
    {
     "name": "stdout",
     "output_type": "stream",
     "text": [
      "Model: \"sequential\"\n",
      "_________________________________________________________________\n",
      " Layer (type)                Output Shape              Param #   \n",
      "=================================================================\n",
      " dense (Dense)               (None, 256)               200960    \n",
      "                                                                 \n",
      " dense_1 (Dense)             (None, 10)                2570      \n",
      "                                                                 \n",
      "=================================================================\n",
      "Total params: 203,530\n",
      "Trainable params: 203,530\n",
      "Non-trainable params: 0\n",
      "_________________________________________________________________\n"
     ]
    }
   ],
   "source": [
    "# model summary\n",
    "classifier.summary()"
   ]
  },
  {
   "cell_type": "markdown",
   "id": "bc8a4ef4",
   "metadata": {},
   "source": [
    "# Training an ANN model"
   ]
  },
  {
   "cell_type": "code",
   "execution_count": 16,
   "id": "dd0d937f",
   "metadata": {},
   "outputs": [],
   "source": [
    "# fit training dataset into the model\n",
    "classifier_fit = classifier.fit(X_train, \n",
    "                                y_train, \n",
    "                                epochs=25, \n",
    "                                verbose=0)"
   ]
  },
  {
   "cell_type": "raw",
   "id": "c329872a",
   "metadata": {},
   "source": [
    "X_train is the input features of the training dataset.\n",
    "y_train is the target labels.\n",
    "epochs - This parameter determines the number of times the entire training dataset will be passed through the neural network during training. one epoch consists of a forward pass and a backward pass\n",
    "verbose - This parameter controls the verbosity during training. A value of 0 means no output will be printed during training while higher values provide more detailed output."
   ]
  },
  {
   "cell_type": "raw",
   "id": "22e4b0b2",
   "metadata": {},
   "source": [
    "The fit method is used to train the model with the provided training dataset.\n",
    "During training, the model iteratively adjusts its weights based on the computed loss and optimization algorithm.\n",
    "The goal is to minimize the loss function and improve the model's performance.\n",
    "It returns an object that contains information about the training process, such as the loss and accuracy values at each epoch"
   ]
  },
  {
   "cell_type": "markdown",
   "id": "0c029129",
   "metadata": {},
   "source": [
    "# Evaluation of ANN model"
   ]
  },
  {
   "cell_type": "code",
   "execution_count": 22,
   "id": "f4d9343e",
   "metadata": {},
   "outputs": [],
   "source": [
    "# evaluation the model for testing dataset\n",
    "test_loss = classifier.evaluate(X_test,y_test,verbose=0)"
   ]
  },
  {
   "cell_type": "code",
   "execution_count": 26,
   "id": "dfbecc4f",
   "metadata": {},
   "outputs": [
    {
     "ename": "NameError",
     "evalue": "name 'np' is not defined",
     "output_type": "error",
     "traceback": [
      "\u001b[1;31m---------------------------------------------------------------------------\u001b[0m",
      "\u001b[1;31mNameError\u001b[0m                                 Traceback (most recent call last)",
      "Input \u001b[1;32mIn [26]\u001b[0m, in \u001b[0;36m<cell line: 2>\u001b[1;34m()\u001b[0m\n\u001b[0;32m      1\u001b[0m \u001b[38;5;66;03m# prediction the model\u001b[39;00m\n\u001b[1;32m----> 2\u001b[0m y_pred \u001b[38;5;241m=\u001b[39m \u001b[43mnp\u001b[49m\u001b[38;5;241m.\u001b[39margmax(classifier\u001b[38;5;241m.\u001b[39mpredict(X_test),axis\u001b[38;5;241m=\u001b[39m\u001b[38;5;241m1\u001b[39m)\n",
      "\u001b[1;31mNameError\u001b[0m: name 'np' is not defined"
     ]
    }
   ],
   "source": [
    "# prediction the model\n",
    "y_pred = np.argmax(classifier.predict(X_test),axis=1)"
   ]
  },
  {
   "cell_type": "code",
   "execution_count": 25,
   "id": "4f6c445c",
   "metadata": {},
   "outputs": [
    {
     "ename": "AttributeError",
     "evalue": "'Sequential' object has no attribute 'predict_classes'",
     "output_type": "error",
     "traceback": [
      "\u001b[1;31m---------------------------------------------------------------------------\u001b[0m",
      "\u001b[1;31mAttributeError\u001b[0m                            Traceback (most recent call last)",
      "Input \u001b[1;32mIn [25]\u001b[0m, in \u001b[0;36m<cell line: 1>\u001b[1;34m()\u001b[0m\n\u001b[0;32m      1\u001b[0m f1 \u001b[38;5;241m=\u001b[39m f1_score(y_test, \n\u001b[1;32m----> 2\u001b[0m               \u001b[43mclassifier\u001b[49m\u001b[38;5;241;43m.\u001b[39;49m\u001b[43mpredict_classes\u001b[49m(X_test), \n\u001b[0;32m      3\u001b[0m               average\u001b[38;5;241m=\u001b[39m\u001b[38;5;124m'\u001b[39m\u001b[38;5;124mmicro\u001b[39m\u001b[38;5;124m'\u001b[39m)\n",
      "\u001b[1;31mAttributeError\u001b[0m: 'Sequential' object has no attribute 'predict_classes'"
     ]
    }
   ],
   "source": [
    "f1 = f1_score(y_test, \n",
    "              classifier.predict_classes(X_test), \n",
    "              average='micro')"
   ]
  },
  {
   "cell_type": "code",
   "execution_count": null,
   "id": "b4260cfa",
   "metadata": {},
   "outputs": [],
   "source": []
  }
 ],
 "metadata": {
  "kernelspec": {
   "display_name": "Python 3 (ipykernel)",
   "language": "python",
   "name": "python3"
  },
  "language_info": {
   "codemirror_mode": {
    "name": "ipython",
    "version": 3
   },
   "file_extension": ".py",
   "mimetype": "text/x-python",
   "name": "python",
   "nbconvert_exporter": "python",
   "pygments_lexer": "ipython3",
   "version": "3.9.12"
  }
 },
 "nbformat": 4,
 "nbformat_minor": 5
}
