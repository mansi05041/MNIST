{
 "cells": [
  {
   "cell_type": "markdown",
   "id": "e541cf94",
   "metadata": {},
   "source": [
    "# importing libraries"
   ]
  },
  {
   "cell_type": "code",
   "execution_count": 45,
   "id": "644127ad",
   "metadata": {},
   "outputs": [],
   "source": [
    "#importing the variables from preprocessing\n",
    "%store -r X_train\n",
    "%store -r X_test\n",
    "%store -r y_train\n",
    "%store -r y_test\n",
    "%store -r classes"
   ]
  },
  {
   "cell_type": "code",
   "execution_count": 6,
   "id": "c758e1da",
   "metadata": {},
   "outputs": [],
   "source": [
    "# keras packages\n",
    "from keras.models import Sequential\n",
    "from keras.layers import Convolution2D\n",
    "from keras.layers import MaxPooling2D\n",
    "from keras.layers import Flatten\n",
    "from keras.layers import Dense\n",
    "from keras.wrappers.scikit_learn import KerasClassifier\n",
    "from keras.layers import Dropout"
   ]
  },
  {
   "cell_type": "code",
   "execution_count": 69,
   "id": "57337a0c",
   "metadata": {},
   "outputs": [],
   "source": [
    "# model evaluation packages\n",
    "from sklearn.metrics import accuracy_score \n",
    "from sklearn.metrics import precision_score\n",
    "from sklearn.metrics import recall_score\n",
    "from sklearn.metrics import f1_score\n",
    "from sklearn.metrics import roc_curve, auc\n",
    "from sklearn.metrics import confusion_matrix, ConfusionMatrixDisplay"
   ]
  },
  {
   "cell_type": "code",
   "execution_count": 51,
   "id": "a8fd6b4c",
   "metadata": {},
   "outputs": [],
   "source": [
    "# importing libraries\n",
    "import numpy as np\n",
    "import matplotlib.pyplot as plt\n",
    "from sklearn.preprocessing import label_binarize"
   ]
  },
  {
   "cell_type": "markdown",
   "id": "f683be39",
   "metadata": {},
   "source": [
    "# Building a ANN model with 1 Dense layer"
   ]
  },
  {
   "cell_type": "code",
   "execution_count": 7,
   "id": "f45da0f9",
   "metadata": {},
   "outputs": [],
   "source": [
    "#intializing CNN model\n",
    "classifier = Sequential()"
   ]
  },
  {
   "cell_type": "raw",
   "id": "09aeb0a5",
   "metadata": {},
   "source": [
    "In keras, the Sequential class represents a linear stack of layers, where each layer is connected to the next in sequence. It provides a straightforward way to build and train deep learning models by adding layers one after another."
   ]
  },
  {
   "cell_type": "code",
   "execution_count": 9,
   "id": "d4de9229",
   "metadata": {},
   "outputs": [],
   "source": [
    "# add 1st hidden layer\n",
    "classifier.add(Dense(input_dim = X_train.shape[1],\n",
    "                    units = 256, kernel_initializer='uniform',\n",
    "                    activation = 'relu'))"
   ]
  },
  {
   "cell_type": "raw",
   "id": "b2c1941e",
   "metadata": {},
   "source": [
    "add()-  Used to add a layer to the sequential model\n",
    "dense - This type of layer being added, which represents a fully connected(dense)layer. Each neuron in this layer is connected to every neuron in the previous layer\n",
    "units - This parameter determins the number of neurons in the dense layer\n",
    "kernel_intializer - This parameter defines the intialization method for the weights of the dense layer. 'uniform' initializer intializes the weights with random values from a uniform distribution.\n",
    "activation - This parameter specifies the activation function to be used in the desne layer. The relu introduces non-linearity to the model by mapping negative values to zero and keeing positive values unchanged"
   ]
  },
  {
   "cell_type": "code",
   "execution_count": 10,
   "id": "e03999b9",
   "metadata": {},
   "outputs": [],
   "source": [
    "# add output laye\n",
    "classifier.add(Dense(units=10, kernel_initializer='uniform',\n",
    "                    activation='softmax'))"
   ]
  },
  {
   "cell_type": "raw",
   "id": "8d819edf",
   "metadata": {},
   "source": [
    "The softmax function is commonly used for multi-class classification problems, as it normalizes the output the output probabilities across all classes, ensuring they sum up to 1. This allows the model to produce probability distributions over multiple claasses"
   ]
  },
  {
   "cell_type": "code",
   "execution_count": 11,
   "id": "ca1f0888",
   "metadata": {},
   "outputs": [],
   "source": [
    "# compile the neural network\n",
    "classifier.compile(optimizer='adam',\n",
    "                   loss='sparse_categorical_crossentropy',\n",
    "                   metrics=['accuracy'])"
   ]
  },
  {
   "cell_type": "raw",
   "id": "8f4d126e",
   "metadata": {},
   "source": [
    "optimizer - This parameter specifies the optimizer to be used during training. The Adam optizer adapts the learning rate for each parameter based on its gradient, providing efficient optimization and convergence\n",
    "loss - This parameter defines the loss function to be minimized during training. The sparse_categorical_crossentropy loss function is used for multi-class classification problems when the target variable is represented as integers. It calculates the cross-entropy loss between the predicted class probabilities and the true class label.\n",
    "metrics - this parameter specifies the evaluation metrics to be used during training and evaluation. Accuracy is used which measures the percentage of correctly classified instances."
   ]
  },
  {
   "cell_type": "code",
   "execution_count": 12,
   "id": "766ddf60",
   "metadata": {},
   "outputs": [
    {
     "name": "stdout",
     "output_type": "stream",
     "text": [
      "Model: \"sequential\"\n",
      "_________________________________________________________________\n",
      " Layer (type)                Output Shape              Param #   \n",
      "=================================================================\n",
      " dense (Dense)               (None, 256)               200960    \n",
      "                                                                 \n",
      " dense_1 (Dense)             (None, 10)                2570      \n",
      "                                                                 \n",
      "=================================================================\n",
      "Total params: 203,530\n",
      "Trainable params: 203,530\n",
      "Non-trainable params: 0\n",
      "_________________________________________________________________\n"
     ]
    }
   ],
   "source": [
    "# model summary\n",
    "classifier.summary()"
   ]
  },
  {
   "cell_type": "markdown",
   "id": "35a9504e",
   "metadata": {},
   "source": [
    "# Training an ANN model"
   ]
  },
  {
   "cell_type": "code",
   "execution_count": 16,
   "id": "06bc3b2f",
   "metadata": {},
   "outputs": [],
   "source": [
    "# fit training dataset into the model\n",
    "classifier_fit = classifier.fit(X_train, \n",
    "                                y_train, \n",
    "                                epochs=25, \n",
    "                                verbose=0)"
   ]
  },
  {
   "cell_type": "raw",
   "id": "9a69f33d",
   "metadata": {},
   "source": [
    "X_train is the input features of the training dataset.\n",
    "y_train is the target labels.\n",
    "epochs - This parameter determines the number of times the entire training dataset will be passed through the neural network during training. one epoch consists of a forward pass and a backward pass\n",
    "verbose - This parameter controls the verbosity during training. A value of 0 means no output will be printed during training while higher values provide more detailed output."
   ]
  },
  {
   "cell_type": "raw",
   "id": "dee020f2",
   "metadata": {},
   "source": [
    "The fit method is used to train the model with the provided training dataset.\n",
    "During training, the model iteratively adjusts its weights based on the computed loss and optimization algorithm.\n",
    "The goal is to minimize the loss function and improve the model's performance.\n",
    "It returns an object that contains information about the training process, such as the loss and accuracy values at each epoch"
   ]
  },
  {
   "cell_type": "markdown",
   "id": "89905263",
   "metadata": {},
   "source": [
    "# Evaluation of ANN model"
   ]
  },
  {
   "cell_type": "code",
   "execution_count": 22,
   "id": "916ba143",
   "metadata": {},
   "outputs": [],
   "source": [
    "# evaluation the model for testing dataset\n",
    "test_loss = classifier.evaluate(X_test,y_test,verbose=0)"
   ]
  },
  {
   "cell_type": "code",
   "execution_count": 31,
   "id": "88bad5b0",
   "metadata": {},
   "outputs": [
    {
     "name": "stdout",
     "output_type": "stream",
     "text": [
      "313/313 [==============================] - 1s 2ms/step\n"
     ]
    }
   ],
   "source": [
    "# prediction the model\n",
    "y_pred = np.argmax(classifier.predict(X_test),axis=1)"
   ]
  },
  {
   "cell_type": "code",
   "execution_count": 76,
   "id": "03f61a86",
   "metadata": {},
   "outputs": [
    {
     "name": "stdout",
     "output_type": "stream",
     "text": [
      "F1-score:  0.9779940843378359\n"
     ]
    }
   ],
   "source": [
    "# calculate f1 score\n",
    "f1 = f1_score(y_test, y_pred, average='macro')\n",
    "print(\"F1-score: \",f1)"
   ]
  },
  {
   "cell_type": "code",
   "execution_count": 37,
   "id": "e8f47563",
   "metadata": {},
   "outputs": [
    {
     "name": "stdout",
     "output_type": "stream",
     "text": [
      "Accuracy:  0.9781\n"
     ]
    }
   ],
   "source": [
    "# calculate accuraccy\n",
    "accuracy = accuracy_score(y_test,y_pred)\n",
    "print(\"Accuracy: \",accuracy)"
   ]
  },
  {
   "cell_type": "code",
   "execution_count": 77,
   "id": "3bc7ecf3",
   "metadata": {},
   "outputs": [
    {
     "name": "stdout",
     "output_type": "stream",
     "text": [
      "Recall:  0.9780659815689716\n"
     ]
    }
   ],
   "source": [
    "# calculate recall\n",
    "recall = recall_score(y_test,y_pred,average='macro')\n",
    "print(\"Recall: \",recall)"
   ]
  },
  {
   "cell_type": "code",
   "execution_count": 78,
   "id": "83ab28d3",
   "metadata": {},
   "outputs": [
    {
     "name": "stdout",
     "output_type": "stream",
     "text": [
      "Precision:  0.9780240019956606\n"
     ]
    }
   ],
   "source": [
    "# calculate precision\n",
    "precision = precision_score(y_test,y_pred,average='macro')\n",
    "print(\"Precision: \",precision)"
   ]
  },
  {
   "cell_type": "code",
   "execution_count": 62,
   "id": "2adfc9f0",
   "metadata": {},
   "outputs": [
    {
     "name": "stdout",
     "output_type": "stream",
     "text": [
      "313/313 [==============================] - 1s 2ms/step\n"
     ]
    },
    {
     "data": {
      "image/png": "[encoded data removed]",
      "text/plain": [
       "<Figure size 576x432 with 1 Axes>"
      ]
     },
     "metadata": {
      "needs_background": "light"
     },
     "output_type": "display_data"
    }
   ],
   "source": [
    "# calculate the roc\n",
    "\n",
    "# convert the labels to one-hot encoded format\n",
    "y_test_encoded = label_binarize(y_test,classes=classes)\n",
    "# make predictions on the test datset\n",
    "y_pred_prob = classifier.predict(X_test)\n",
    "\n",
    "# compute the ROC curve and AUC for each class\n",
    "fpr = dict()\n",
    "tpr = dict()\n",
    "roc_auc = dict()\n",
    "\n",
    "for i in range(len(classes)):\n",
    "    fpr[i], tpr[i], _ = roc_curve(y_test_encoded[:,i],y_pred_prob[:,i])\n",
    "    roc_auc[i]=auc(fpr[i],tpr[i])\n",
    "\n",
    "# plot the Roc curve for each class\n",
    "plt.figure(figsize=(8,6))\n",
    "for i in range(len(classes)):\n",
    "    plt.plot(fpr[i],tpr[i], label='ROC curve (AUC = %0.2f)' % roc_auc[i])\n",
    "plt.plot([0,1],[0,1],color='navy',linestyle='--')\n",
    "plt.xlabel('False Positive rate')\n",
    "plt.ylabel('True Positive rate')\n",
    "plt.title('ROC')\n",
    "plt.legend(loc=\"lower right\")\n",
    "plt.show()"
   ]
  },
  {
   "cell_type": "code",
   "execution_count": 70,
   "id": "5429d50a",
   "metadata": {},
   "outputs": [],
   "source": [
    "# confusion matric\n",
    "cm = confusion_matrix(y_test,y_pred)"
   ]
  },
  {
   "cell_type": "code",
   "execution_count": 72,
   "id": "89b33e2e",
   "metadata": {},
   "outputs": [
    {
     "data": {
      "image/png": "[encoded data removed]",
      "text/plain": [
       "<Figure size 432x288 with 2 Axes>"
      ]
     },
     "metadata": {
      "needs_background": "light"
     },
     "output_type": "display_data"
    }
   ],
   "source": [
    "cm_display = ConfusionMatrixDisplay(confusion_matrix = cm, display_labels= classes)\n",
    "cm_display.plot()\n",
    "plt.title('Confusion Matrix')\n",
    "plt.show()"
   ]
  }
 ],
 "metadata": {
  "kernelspec": {
   "display_name": "Python 3 (ipykernel)",
   "language": "python",
   "name": "python3"
  },
  "language_info": {
   "codemirror_mode": {
    "name": "ipython",
    "version": 3
   },
   "file_extension": ".py",
   "mimetype": "text/x-python",
   "name": "python",
   "nbconvert_exporter": "python",
   "pygments_lexer": "ipython3",
   "version": "3.9.12"
  }
 },
 "nbformat": 4,
 "nbformat_minor": 5
}
